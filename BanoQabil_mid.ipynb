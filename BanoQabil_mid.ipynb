{
 "cells": [
  {
   "cell_type": "markdown",
   "id": "60eb0570-0009-43af-9710-9c93791d7242",
   "metadata": {},
   "source": [
    "Question Number 1"
   ]
  },
  {
   "cell_type": "code",
   "execution_count": 2,
   "id": "757bfe74-52f7-4ca5-905e-70c15117834a",
   "metadata": {},
   "outputs": [
    {
     "name": "stdin",
     "output_type": "stream",
     "text": [
      "Enter the first number for addition:  5\n",
      "Enter the second number for addition:  6\n",
      "Enter the dividend for division:  25\n",
      "Enter the divisor for division:  5\n"
     ]
    },
    {
     "name": "stdout",
     "output_type": "stream",
     "text": [
      "\n",
      "Sum: 5.0 + 6.0 = 11.0\n",
      "Division: 25.0 / 5.0 = 5.0\n"
     ]
    }
   ],
   "source": [
    "# Arithmetical Operations Program\n",
    "\n",
    "# Addition\n",
    "num1_addition = float(input(\"Enter the first number for addition: \"))\n",
    "num2_addition = float(input(\"Enter the second number for addition: \"))\n",
    "sum_result = num1_addition + num2_addition\n",
    "\n",
    "# Division\n",
    "dividend = float(input(\"Enter the dividend for division: \"))\n",
    "divisor = float(input(\"Enter the divisor for division: \"))\n",
    "division_result = dividend / divisor\n",
    "\n",
    "# Output\n",
    "print(f\"\\nSum: {num1_addition} + {num2_addition} = {sum_result}\")\n",
    "print(f\"Division: {dividend} / {divisor} = {division_result}\")\n"
   ]
  },
  {
   "cell_type": "markdown",
   "id": "ba1371c0-badc-46f8-b6ac-9d63b2f44700",
   "metadata": {},
   "source": [
    "Question no:2"
   ]
  },
  {
   "cell_type": "code",
   "execution_count": 3,
   "id": "04ea6343-2626-4f6f-81d2-df6b1b268a14",
   "metadata": {},
   "outputs": [
    {
     "name": "stdin",
     "output_type": "stream",
     "text": [
      "Enter the length of the base of the triangle:  10\n",
      "Enter the height of the triangle:  15\n"
     ]
    },
    {
     "name": "stdout",
     "output_type": "stream",
     "text": [
      "\n",
      "The area of the triangle is: 75.0\n"
     ]
    }
   ],
   "source": [
    "# Triangle Area Calculation Program\n",
    "\n",
    "# Input the length of the base and height of the triangle\n",
    "base_length = float(input(\"Enter the length of the base of the triangle: \"))\n",
    "height = float(input(\"Enter the height of the triangle: \"))\n",
    "\n",
    "# Calculate the area of the triangle\n",
    "triangle_area = 0.5 * base_length * height\n",
    "\n",
    "# Output\n",
    "print(f\"\\nThe area of the triangle is: {triangle_area}\")\n"
   ]
  },
  {
   "cell_type": "markdown",
   "id": "24ffbfb2-03c0-4cfa-97da-8a2a7b065635",
   "metadata": {},
   "source": [
    "Question No:3"
   ]
  },
  {
   "cell_type": "code",
   "execution_count": 4,
   "id": "4f969c55-2d46-4381-b192-6181da52669f",
   "metadata": {},
   "outputs": [
    {
     "name": "stdin",
     "output_type": "stream",
     "text": [
      "Enter temperature in Celsius:  37\n"
     ]
    },
    {
     "name": "stdout",
     "output_type": "stream",
     "text": [
      "\n",
      "37.0 degrees Celsius is equal to 98.6 degrees Fahrenheit\n"
     ]
    }
   ],
   "source": [
    "# Celsius to Fahrenheit Conversion Program\n",
    "\n",
    "# Input temperature in Celsius\n",
    "celsius_temperature = float(input(\"Enter temperature in Celsius: \"))\n",
    "\n",
    "# Convert Celsius to Fahrenheit\n",
    "fahrenheit_temperature = (celsius_temperature * 9/5) + 32\n",
    "\n",
    "# Output\n",
    "print(f\"\\n{celsius_temperature} degrees Celsius is equal to {fahrenheit_temperature} degrees Fahrenheit\")\n"
   ]
  },
  {
   "cell_type": "markdown",
   "id": "2eaacd0d-1690-406d-a43b-4789d6d2faca",
   "metadata": {},
   "source": [
    "Question No:4"
   ]
  },
  {
   "cell_type": "code",
   "execution_count": 5,
   "id": "1aa314a3-0e95-4cc1-836a-76b263d13b99",
   "metadata": {},
   "outputs": [
    {
     "name": "stdout",
     "output_type": "stream",
     "text": [
      "The Data Type of 19 is <class 'int'>\n",
      "The Data Type of 16.5 is <class 'float'>\n",
      "The Data Type of Your Name is <class 'str'>\n",
      "The Data Type of True is <class 'bool'>\n"
     ]
    }
   ],
   "source": [
    "# Data Type Demonstration Program\n",
    "\n",
    "# Integers\n",
    "number_integer = 19\n",
    "print(f\"The Data Type of {number_integer} is {type(number_integer)}\")\n",
    "\n",
    "# Floats\n",
    "number_float = 16.5\n",
    "print(f\"The Data Type of {number_float} is {type(number_float)}\")\n",
    "\n",
    "# Strings\n",
    "your_name = \"Your Name\"\n",
    "print(f\"The Data Type of {your_name} is {type(your_name)}\")\n",
    "\n",
    "# Booleans\n",
    "boolean_value = True\n",
    "print(f\"The Data Type of {boolean_value} is {type(boolean_value)}\")\n"
   ]
  },
  {
   "cell_type": "code",
   "execution_count": null,
   "id": "7d51f2f8-d826-4328-8c5a-a11e88539beb",
   "metadata": {},
   "outputs": [],
   "source": []
  }
 ],
 "metadata": {
  "kernelspec": {
   "display_name": "Python 3 (ipykernel)",
   "language": "python",
   "name": "python3"
  },
  "language_info": {
   "codemirror_mode": {
    "name": "ipython",
    "version": 3
   },
   "file_extension": ".py",
   "mimetype": "text/x-python",
   "name": "python",
   "nbconvert_exporter": "python",
   "pygments_lexer": "ipython3",
   "version": "3.10.10"
  }
 },
 "nbformat": 4,
 "nbformat_minor": 5
}
